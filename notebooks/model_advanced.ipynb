{
 "cells": [
  {
   "cell_type": "markdown",
   "id": "32f83aa1-6f6b-4bbb-a752-ebaba61f8f8c",
   "metadata": {},
   "source": [
    "We will do the same procedure as in the model_baseline notebook, i.e., splitting the training (Pantheon+) data to validate the model with itself and also use the DES data to test the model afterwards. This notebook will feature slightly more complex models like RandomForestRegressor and XGBRegressor to attempt an even better prediction."
   ]
  }
 ],
 "metadata": {
  "kernelspec": {
   "display_name": "Python 3 (ipykernel)",
   "language": "python",
   "name": "python3"
  },
  "language_info": {
   "codemirror_mode": {
    "name": "ipython",
    "version": 3
   },
   "file_extension": ".py",
   "mimetype": "text/x-python",
   "name": "python",
   "nbconvert_exporter": "python",
   "pygments_lexer": "ipython3",
   "version": "3.12.1"
  }
 },
 "nbformat": 4,
 "nbformat_minor": 5
}
